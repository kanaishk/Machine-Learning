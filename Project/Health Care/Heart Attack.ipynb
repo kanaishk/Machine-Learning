{
 "cells": [
  {
   "cell_type": "code",
   "execution_count": 1,
   "id": "2d4c9837-0641-4b0a-9465-546bdf32fe80",
   "metadata": {},
   "outputs": [],
   "source": [
    "#Importing Libraries"
   ]
  },
  {
   "cell_type": "code",
   "execution_count": 2,
   "id": "6cd5c881-c792-42d8-a2aa-1d2e887c8f44",
   "metadata": {
    "tags": []
   },
   "outputs": [],
   "source": [
    "import numpy as np \n",
    "import pandas as pd\n",
    "import matplotlib.pyplot as plt\n",
    "import seaborn as sns\n",
    "import os\n",
    "%matplotlib inline"
   ]
  },
  {
   "cell_type": "code",
   "execution_count": 3,
   "id": "54b7b19e-359d-4c53-9725-2cbbd09427a0",
   "metadata": {},
   "outputs": [],
   "source": [
    "from sklearn.metrics import classification_report,confusion_matrix,accuracy_score\n",
    "from sklearn.preprocessing import StandardScaler\n",
    "from sklearn.model_selection import  GridSearchCV, train_test_split\n",
    "from sklearn.linear_model import LogisticRegression\n",
    "from sklearn.ensemble import RandomForestClassifier"
   ]
  },
  {
   "cell_type": "code",
   "execution_count": 4,
   "id": "11d9b015-a7d4-4c48-b11d-d902de6546c5",
   "metadata": {
    "tags": []
   },
   "outputs": [],
   "source": [
    "#1. Preliminary Analysis"
   ]
  },
  {
   "cell_type": "code",
   "execution_count": 5,
   "id": "b61525aa-3742-40cc-95bc-82af25402f22",
   "metadata": {
    "tags": []
   },
   "outputs": [],
   "source": [
    "#Importing the Dataset"
   ]
  },
  {
   "cell_type": "code",
   "execution_count": 6,
   "id": "4f6c049a-0b71-48c6-9b1a-fcc80c6d80e6",
   "metadata": {
    "tags": []
   },
   "outputs": [],
   "source": [
    "cwd = os.getcwd()\n",
    "dataset_dir = os.path.join(cwd,'Dataset')\n",
    "dataset_path = os.path.join(dataset_dir,'1645792390_cep1_dataset.xlsx')\n",
    "dataset = pd.read_excel(dataset_path)"
   ]
  },
  {
   "cell_type": "code",
   "execution_count": 7,
   "id": "f6d06ad0-0e2e-43f4-8180-96e8ca674ad8",
   "metadata": {
    "tags": []
   },
   "outputs": [],
   "source": [
    "#Understanding the dataset"
   ]
  },
  {
   "cell_type": "code",
   "execution_count": 8,
   "id": "d4800deb-d1b2-4fe0-94c8-51f4208a1081",
   "metadata": {},
   "outputs": [],
   "source": [
    "#   •   age: The person's age in years\n",
    "#   •   sex: The person's sex (1 = male, 0 = female)\n",
    "#\n",
    "#   •   cp: chest pain type\n",
    "#   \t-- Value 0: asymptomatic\n",
    "#   \t-- Value 1: atypical angina\n",
    "#   \t-- Value 2: non-anginal pain\n",
    "#   \t-- Value 3: typical angina\n",
    "#\n",
    "#   •   trestbps: The person's resting blood pressure (mm Hg on admission to the hospital)\n",
    "#   •   chol: The person's cholesterol measurement in mg/dl\n",
    "#   •   fbs: The person's fasting blood sugar (> 120 mg/dl, 1 = true; 0 = false)\n",
    "#\n",
    "#   •   restecg: resting electrocardiographic results\n",
    "#   \t-- Value 0: showing probable or definite left ventricular \thypertrophy by Estes' criteria\n",
    "#   \t-- Value 1: normal\n",
    "#   \t-- Value 2: having ST-T wave abnormality (T wave inversions and/or ST elevation or depression of > 0.05 mV)\n",
    "#\n",
    "#   •   thalach: The person's maximum heart rate achieved\n",
    "#   •   exang: Exercise induced angina (1 = yes; 0 = no)\n",
    "#   •   oldpeak: ST depression induced by exercise relative to rest ('ST' relates to positions on the ECG plot.)\n",
    "#   •   slope: the slope of the peak exercise ST segment (0: downsloping; 1: flat; 2: upsloping)\n",
    "#   •   ca: The number of major vessels (0-3)\n",
    "#   •   thal: Results of the blood flow observed via the radioactive dye.\n",
    "# \n",
    "#   \tValue 1: fixed defect (no blood flow in some part of the heart)\n",
    "#   \tValue 2: normal blood flow\n",
    "#   \tValue 3: reversible defect (a blood flow is observed but it is not normal)\n",
    "# \n",
    "#   •   target : 0 = disease, 1 = no disease"
   ]
  },
  {
   "cell_type": "code",
   "execution_count": 9,
   "id": "2d3e9bd7-df3b-4b57-9964-c48ed894c3e3",
   "metadata": {
    "tags": []
   },
   "outputs": [
    {
     "data": {
      "text/plain": [
       "(303, 14)"
      ]
     },
     "execution_count": 9,
     "metadata": {},
     "output_type": "execute_result"
    }
   ],
   "source": [
    "dataset.shape"
   ]
  },
  {
   "cell_type": "code",
   "execution_count": 10,
   "id": "2e886617-a690-4dd0-bf75-786a19ecf70c",
   "metadata": {
    "tags": []
   },
   "outputs": [
    {
     "data": {
      "text/plain": [
       "Index(['age', 'sex', 'cp', 'trestbps', 'chol', 'fbs', 'restecg', 'thalach',\n",
       "       'exang', 'oldpeak', 'slope', 'ca', 'thal', 'target'],\n",
       "      dtype='object')"
      ]
     },
     "execution_count": 10,
     "metadata": {},
     "output_type": "execute_result"
    }
   ],
   "source": [
    "dataset.columns"
   ]
  },
  {
   "cell_type": "code",
   "execution_count": 11,
   "id": "946cbb47-8ef0-41d4-88b3-7e25abbd9823",
   "metadata": {
    "tags": []
   },
   "outputs": [
    {
     "data": {
      "text/html": [
       "<div>\n",
       "<style scoped>\n",
       "    .dataframe tbody tr th:only-of-type {\n",
       "        vertical-align: middle;\n",
       "    }\n",
       "\n",
       "    .dataframe tbody tr th {\n",
       "        vertical-align: top;\n",
       "    }\n",
       "\n",
       "    .dataframe thead th {\n",
       "        text-align: right;\n",
       "    }\n",
       "</style>\n",
       "<table border=\"1\" class=\"dataframe\">\n",
       "  <thead>\n",
       "    <tr style=\"text-align: right;\">\n",
       "      <th></th>\n",
       "      <th>age</th>\n",
       "      <th>sex</th>\n",
       "      <th>cp</th>\n",
       "      <th>trestbps</th>\n",
       "      <th>chol</th>\n",
       "      <th>fbs</th>\n",
       "      <th>restecg</th>\n",
       "      <th>thalach</th>\n",
       "      <th>exang</th>\n",
       "      <th>oldpeak</th>\n",
       "      <th>slope</th>\n",
       "      <th>ca</th>\n",
       "      <th>thal</th>\n",
       "      <th>target</th>\n",
       "    </tr>\n",
       "  </thead>\n",
       "  <tbody>\n",
       "    <tr>\n",
       "      <th>0</th>\n",
       "      <td>63</td>\n",
       "      <td>1</td>\n",
       "      <td>3</td>\n",
       "      <td>145</td>\n",
       "      <td>233</td>\n",
       "      <td>1</td>\n",
       "      <td>0</td>\n",
       "      <td>150</td>\n",
       "      <td>0</td>\n",
       "      <td>2.3</td>\n",
       "      <td>0</td>\n",
       "      <td>0</td>\n",
       "      <td>1</td>\n",
       "      <td>1</td>\n",
       "    </tr>\n",
       "    <tr>\n",
       "      <th>1</th>\n",
       "      <td>37</td>\n",
       "      <td>1</td>\n",
       "      <td>2</td>\n",
       "      <td>130</td>\n",
       "      <td>250</td>\n",
       "      <td>0</td>\n",
       "      <td>1</td>\n",
       "      <td>187</td>\n",
       "      <td>0</td>\n",
       "      <td>3.5</td>\n",
       "      <td>0</td>\n",
       "      <td>0</td>\n",
       "      <td>2</td>\n",
       "      <td>1</td>\n",
       "    </tr>\n",
       "    <tr>\n",
       "      <th>2</th>\n",
       "      <td>41</td>\n",
       "      <td>0</td>\n",
       "      <td>1</td>\n",
       "      <td>130</td>\n",
       "      <td>204</td>\n",
       "      <td>0</td>\n",
       "      <td>0</td>\n",
       "      <td>172</td>\n",
       "      <td>0</td>\n",
       "      <td>1.4</td>\n",
       "      <td>2</td>\n",
       "      <td>0</td>\n",
       "      <td>2</td>\n",
       "      <td>1</td>\n",
       "    </tr>\n",
       "    <tr>\n",
       "      <th>3</th>\n",
       "      <td>56</td>\n",
       "      <td>1</td>\n",
       "      <td>1</td>\n",
       "      <td>120</td>\n",
       "      <td>236</td>\n",
       "      <td>0</td>\n",
       "      <td>1</td>\n",
       "      <td>178</td>\n",
       "      <td>0</td>\n",
       "      <td>0.8</td>\n",
       "      <td>2</td>\n",
       "      <td>0</td>\n",
       "      <td>2</td>\n",
       "      <td>1</td>\n",
       "    </tr>\n",
       "    <tr>\n",
       "      <th>4</th>\n",
       "      <td>57</td>\n",
       "      <td>0</td>\n",
       "      <td>0</td>\n",
       "      <td>120</td>\n",
       "      <td>354</td>\n",
       "      <td>0</td>\n",
       "      <td>1</td>\n",
       "      <td>163</td>\n",
       "      <td>1</td>\n",
       "      <td>0.6</td>\n",
       "      <td>2</td>\n",
       "      <td>0</td>\n",
       "      <td>2</td>\n",
       "      <td>1</td>\n",
       "    </tr>\n",
       "  </tbody>\n",
       "</table>\n",
       "</div>"
      ],
      "text/plain": [
       "   age  sex  cp  trestbps  chol  fbs  restecg  thalach  exang  oldpeak  slope  \\\n",
       "0   63    1   3       145   233    1        0      150      0      2.3      0   \n",
       "1   37    1   2       130   250    0        1      187      0      3.5      0   \n",
       "2   41    0   1       130   204    0        0      172      0      1.4      2   \n",
       "3   56    1   1       120   236    0        1      178      0      0.8      2   \n",
       "4   57    0   0       120   354    0        1      163      1      0.6      2   \n",
       "\n",
       "   ca  thal  target  \n",
       "0   0     1       1  \n",
       "1   0     2       1  \n",
       "2   0     2       1  \n",
       "3   0     2       1  \n",
       "4   0     2       1  "
      ]
     },
     "execution_count": 11,
     "metadata": {},
     "output_type": "execute_result"
    }
   ],
   "source": [
    "dataset.head()"
   ]
  },
  {
   "cell_type": "code",
   "execution_count": 12,
   "id": "2c997d5a-e8e1-4e75-a261-95d52bc97bac",
   "metadata": {
    "tags": []
   },
   "outputs": [
    {
     "name": "stdout",
     "output_type": "stream",
     "text": [
      "<class 'pandas.core.frame.DataFrame'>\n",
      "RangeIndex: 303 entries, 0 to 302\n",
      "Data columns (total 14 columns):\n",
      " #   Column    Non-Null Count  Dtype  \n",
      "---  ------    --------------  -----  \n",
      " 0   age       303 non-null    int64  \n",
      " 1   sex       303 non-null    int64  \n",
      " 2   cp        303 non-null    int64  \n",
      " 3   trestbps  303 non-null    int64  \n",
      " 4   chol      303 non-null    int64  \n",
      " 5   fbs       303 non-null    int64  \n",
      " 6   restecg   303 non-null    int64  \n",
      " 7   thalach   303 non-null    int64  \n",
      " 8   exang     303 non-null    int64  \n",
      " 9   oldpeak   303 non-null    float64\n",
      " 10  slope     303 non-null    int64  \n",
      " 11  ca        303 non-null    int64  \n",
      " 12  thal      303 non-null    int64  \n",
      " 13  target    303 non-null    int64  \n",
      "dtypes: float64(1), int64(13)\n",
      "memory usage: 33.3 KB\n"
     ]
    }
   ],
   "source": [
    "dataset.info()"
   ]
  },
  {
   "cell_type": "code",
   "execution_count": 13,
   "id": "ab9b9d93-5f29-4f4b-8a3f-87f58d840296",
   "metadata": {
    "tags": []
   },
   "outputs": [],
   "source": [
    "#1.a. Finding out null values in dataset. If 0 means no missing value."
   ]
  },
  {
   "cell_type": "code",
   "execution_count": 14,
   "id": "6d9b35d8-5e95-4c4e-821b-5366564cf76d",
   "metadata": {
    "tags": []
   },
   "outputs": [
    {
     "data": {
      "text/plain": [
       "age         0\n",
       "sex         0\n",
       "cp          0\n",
       "trestbps    0\n",
       "chol        0\n",
       "fbs         0\n",
       "restecg     0\n",
       "thalach     0\n",
       "exang       0\n",
       "oldpeak     0\n",
       "slope       0\n",
       "ca          0\n",
       "thal        0\n",
       "target      0\n",
       "dtype: int64"
      ]
     },
     "execution_count": 14,
     "metadata": {},
     "output_type": "execute_result"
    }
   ],
   "source": [
    "dataset.isna().sum()"
   ]
  },
  {
   "cell_type": "code",
   "execution_count": 15,
   "id": "1a3ef273-fca5-41a5-a3fe-8654e7ae5be6",
   "metadata": {
    "tags": []
   },
   "outputs": [],
   "source": [
    "#Checking if dataset is imbalanced or not."
   ]
  },
  {
   "cell_type": "code",
   "execution_count": 16,
   "id": "67d7ff5a-f846-42ae-806b-c738bdf19b10",
   "metadata": {
    "tags": []
   },
   "outputs": [
    {
     "data": {
      "text/plain": [
       "1    165\n",
       "0    138\n",
       "Name: target, dtype: int64"
      ]
     },
     "execution_count": 16,
     "metadata": {},
     "output_type": "execute_result"
    }
   ],
   "source": [
    "dataset.target.value_counts()"
   ]
  },
  {
   "cell_type": "code",
   "execution_count": 17,
   "id": "1ca7adc1-5ed3-4706-90df-10fb5ff37581",
   "metadata": {
    "tags": []
   },
   "outputs": [],
   "source": [
    "#1.b. Checking for duplicates"
   ]
  },
  {
   "cell_type": "code",
   "execution_count": 18,
   "id": "5c0dd0c9-0361-499d-af76-95c9ce5f4faf",
   "metadata": {
    "tags": []
   },
   "outputs": [
    {
     "data": {
      "text/html": [
       "<div>\n",
       "<style scoped>\n",
       "    .dataframe tbody tr th:only-of-type {\n",
       "        vertical-align: middle;\n",
       "    }\n",
       "\n",
       "    .dataframe tbody tr th {\n",
       "        vertical-align: top;\n",
       "    }\n",
       "\n",
       "    .dataframe thead th {\n",
       "        text-align: right;\n",
       "    }\n",
       "</style>\n",
       "<table border=\"1\" class=\"dataframe\">\n",
       "  <thead>\n",
       "    <tr style=\"text-align: right;\">\n",
       "      <th></th>\n",
       "      <th>age</th>\n",
       "      <th>sex</th>\n",
       "      <th>cp</th>\n",
       "      <th>trestbps</th>\n",
       "      <th>chol</th>\n",
       "      <th>fbs</th>\n",
       "      <th>restecg</th>\n",
       "      <th>thalach</th>\n",
       "      <th>exang</th>\n",
       "      <th>oldpeak</th>\n",
       "      <th>slope</th>\n",
       "      <th>ca</th>\n",
       "      <th>thal</th>\n",
       "      <th>target</th>\n",
       "    </tr>\n",
       "  </thead>\n",
       "  <tbody>\n",
       "    <tr>\n",
       "      <th>164</th>\n",
       "      <td>38</td>\n",
       "      <td>1</td>\n",
       "      <td>2</td>\n",
       "      <td>138</td>\n",
       "      <td>175</td>\n",
       "      <td>0</td>\n",
       "      <td>1</td>\n",
       "      <td>173</td>\n",
       "      <td>0</td>\n",
       "      <td>0.0</td>\n",
       "      <td>2</td>\n",
       "      <td>4</td>\n",
       "      <td>2</td>\n",
       "      <td>1</td>\n",
       "    </tr>\n",
       "  </tbody>\n",
       "</table>\n",
       "</div>"
      ],
      "text/plain": [
       "     age  sex  cp  trestbps  chol  fbs  restecg  thalach  exang  oldpeak  \\\n",
       "164   38    1   2       138   175    0        1      173      0      0.0   \n",
       "\n",
       "     slope  ca  thal  target  \n",
       "164      2   4     2       1  "
      ]
     },
     "execution_count": 18,
     "metadata": {},
     "output_type": "execute_result"
    }
   ],
   "source": [
    "dataset[dataset.duplicated()==True]"
   ]
  },
  {
   "cell_type": "code",
   "execution_count": 19,
   "id": "07f4b1fd-f2f5-4d97-985f-12c679f185be",
   "metadata": {
    "tags": []
   },
   "outputs": [],
   "source": [
    "#Removing duplicates"
   ]
  },
  {
   "cell_type": "code",
   "execution_count": 20,
   "id": "e756521c-3018-4b58-8fc8-44e47d9ffac2",
   "metadata": {
    "tags": []
   },
   "outputs": [
    {
     "data": {
      "text/plain": [
       "(302, 14)"
      ]
     },
     "execution_count": 20,
     "metadata": {},
     "output_type": "execute_result"
    }
   ],
   "source": [
    "dataset.drop_duplicates(keep='last',inplace=True)\n",
    "dataset.shape"
   ]
  },
  {
   "cell_type": "code",
   "execution_count": 21,
   "id": "785239ae-46ca-4031-883e-f41bf0829f77",
   "metadata": {},
   "outputs": [],
   "source": [
    "#2. Understanding distribution of disease and related factors"
   ]
  },
  {
   "cell_type": "code",
   "execution_count": 22,
   "id": "4d98e6db-955b-449d-bc99-e144163ba6ed",
   "metadata": {},
   "outputs": [],
   "source": [
    "#2.a. Preliminary statistical summary of the data"
   ]
  },
  {
   "cell_type": "code",
   "execution_count": 23,
   "id": "9a700172-966a-4f4c-9958-2e1e13efb438",
   "metadata": {
    "tags": []
   },
   "outputs": [
    {
     "data": {
      "text/html": [
       "<div>\n",
       "<style scoped>\n",
       "    .dataframe tbody tr th:only-of-type {\n",
       "        vertical-align: middle;\n",
       "    }\n",
       "\n",
       "    .dataframe tbody tr th {\n",
       "        vertical-align: top;\n",
       "    }\n",
       "\n",
       "    .dataframe thead th {\n",
       "        text-align: right;\n",
       "    }\n",
       "</style>\n",
       "<table border=\"1\" class=\"dataframe\">\n",
       "  <thead>\n",
       "    <tr style=\"text-align: right;\">\n",
       "      <th></th>\n",
       "      <th>age</th>\n",
       "      <th>sex</th>\n",
       "      <th>cp</th>\n",
       "      <th>trestbps</th>\n",
       "      <th>chol</th>\n",
       "      <th>fbs</th>\n",
       "      <th>restecg</th>\n",
       "      <th>thalach</th>\n",
       "      <th>exang</th>\n",
       "      <th>oldpeak</th>\n",
       "      <th>slope</th>\n",
       "      <th>ca</th>\n",
       "      <th>thal</th>\n",
       "      <th>target</th>\n",
       "    </tr>\n",
       "  </thead>\n",
       "  <tbody>\n",
       "    <tr>\n",
       "      <th>count</th>\n",
       "      <td>302.00000</td>\n",
       "      <td>302.000000</td>\n",
       "      <td>302.000000</td>\n",
       "      <td>302.000000</td>\n",
       "      <td>302.000000</td>\n",
       "      <td>302.000000</td>\n",
       "      <td>302.000000</td>\n",
       "      <td>302.000000</td>\n",
       "      <td>302.000000</td>\n",
       "      <td>302.000000</td>\n",
       "      <td>302.000000</td>\n",
       "      <td>302.000000</td>\n",
       "      <td>302.000000</td>\n",
       "      <td>302.000000</td>\n",
       "    </tr>\n",
       "    <tr>\n",
       "      <th>mean</th>\n",
       "      <td>54.42053</td>\n",
       "      <td>0.682119</td>\n",
       "      <td>0.963576</td>\n",
       "      <td>131.602649</td>\n",
       "      <td>246.500000</td>\n",
       "      <td>0.149007</td>\n",
       "      <td>0.526490</td>\n",
       "      <td>149.569536</td>\n",
       "      <td>0.327815</td>\n",
       "      <td>1.043046</td>\n",
       "      <td>1.397351</td>\n",
       "      <td>0.718543</td>\n",
       "      <td>2.314570</td>\n",
       "      <td>0.543046</td>\n",
       "    </tr>\n",
       "    <tr>\n",
       "      <th>std</th>\n",
       "      <td>9.04797</td>\n",
       "      <td>0.466426</td>\n",
       "      <td>1.032044</td>\n",
       "      <td>17.563394</td>\n",
       "      <td>51.753489</td>\n",
       "      <td>0.356686</td>\n",
       "      <td>0.526027</td>\n",
       "      <td>22.903527</td>\n",
       "      <td>0.470196</td>\n",
       "      <td>1.161452</td>\n",
       "      <td>0.616274</td>\n",
       "      <td>1.006748</td>\n",
       "      <td>0.613026</td>\n",
       "      <td>0.498970</td>\n",
       "    </tr>\n",
       "    <tr>\n",
       "      <th>min</th>\n",
       "      <td>29.00000</td>\n",
       "      <td>0.000000</td>\n",
       "      <td>0.000000</td>\n",
       "      <td>94.000000</td>\n",
       "      <td>126.000000</td>\n",
       "      <td>0.000000</td>\n",
       "      <td>0.000000</td>\n",
       "      <td>71.000000</td>\n",
       "      <td>0.000000</td>\n",
       "      <td>0.000000</td>\n",
       "      <td>0.000000</td>\n",
       "      <td>0.000000</td>\n",
       "      <td>0.000000</td>\n",
       "      <td>0.000000</td>\n",
       "    </tr>\n",
       "    <tr>\n",
       "      <th>25%</th>\n",
       "      <td>48.00000</td>\n",
       "      <td>0.000000</td>\n",
       "      <td>0.000000</td>\n",
       "      <td>120.000000</td>\n",
       "      <td>211.000000</td>\n",
       "      <td>0.000000</td>\n",
       "      <td>0.000000</td>\n",
       "      <td>133.250000</td>\n",
       "      <td>0.000000</td>\n",
       "      <td>0.000000</td>\n",
       "      <td>1.000000</td>\n",
       "      <td>0.000000</td>\n",
       "      <td>2.000000</td>\n",
       "      <td>0.000000</td>\n",
       "    </tr>\n",
       "    <tr>\n",
       "      <th>50%</th>\n",
       "      <td>55.50000</td>\n",
       "      <td>1.000000</td>\n",
       "      <td>1.000000</td>\n",
       "      <td>130.000000</td>\n",
       "      <td>240.500000</td>\n",
       "      <td>0.000000</td>\n",
       "      <td>1.000000</td>\n",
       "      <td>152.500000</td>\n",
       "      <td>0.000000</td>\n",
       "      <td>0.800000</td>\n",
       "      <td>1.000000</td>\n",
       "      <td>0.000000</td>\n",
       "      <td>2.000000</td>\n",
       "      <td>1.000000</td>\n",
       "    </tr>\n",
       "    <tr>\n",
       "      <th>75%</th>\n",
       "      <td>61.00000</td>\n",
       "      <td>1.000000</td>\n",
       "      <td>2.000000</td>\n",
       "      <td>140.000000</td>\n",
       "      <td>274.750000</td>\n",
       "      <td>0.000000</td>\n",
       "      <td>1.000000</td>\n",
       "      <td>166.000000</td>\n",
       "      <td>1.000000</td>\n",
       "      <td>1.600000</td>\n",
       "      <td>2.000000</td>\n",
       "      <td>1.000000</td>\n",
       "      <td>3.000000</td>\n",
       "      <td>1.000000</td>\n",
       "    </tr>\n",
       "    <tr>\n",
       "      <th>max</th>\n",
       "      <td>77.00000</td>\n",
       "      <td>1.000000</td>\n",
       "      <td>3.000000</td>\n",
       "      <td>200.000000</td>\n",
       "      <td>564.000000</td>\n",
       "      <td>1.000000</td>\n",
       "      <td>2.000000</td>\n",
       "      <td>202.000000</td>\n",
       "      <td>1.000000</td>\n",
       "      <td>6.200000</td>\n",
       "      <td>2.000000</td>\n",
       "      <td>4.000000</td>\n",
       "      <td>3.000000</td>\n",
       "      <td>1.000000</td>\n",
       "    </tr>\n",
       "  </tbody>\n",
       "</table>\n",
       "</div>"
      ],
      "text/plain": [
       "             age         sex          cp    trestbps        chol         fbs  \\\n",
       "count  302.00000  302.000000  302.000000  302.000000  302.000000  302.000000   \n",
       "mean    54.42053    0.682119    0.963576  131.602649  246.500000    0.149007   \n",
       "std      9.04797    0.466426    1.032044   17.563394   51.753489    0.356686   \n",
       "min     29.00000    0.000000    0.000000   94.000000  126.000000    0.000000   \n",
       "25%     48.00000    0.000000    0.000000  120.000000  211.000000    0.000000   \n",
       "50%     55.50000    1.000000    1.000000  130.000000  240.500000    0.000000   \n",
       "75%     61.00000    1.000000    2.000000  140.000000  274.750000    0.000000   \n",
       "max     77.00000    1.000000    3.000000  200.000000  564.000000    1.000000   \n",
       "\n",
       "          restecg     thalach       exang     oldpeak       slope          ca  \\\n",
       "count  302.000000  302.000000  302.000000  302.000000  302.000000  302.000000   \n",
       "mean     0.526490  149.569536    0.327815    1.043046    1.397351    0.718543   \n",
       "std      0.526027   22.903527    0.470196    1.161452    0.616274    1.006748   \n",
       "min      0.000000   71.000000    0.000000    0.000000    0.000000    0.000000   \n",
       "25%      0.000000  133.250000    0.000000    0.000000    1.000000    0.000000   \n",
       "50%      1.000000  152.500000    0.000000    0.800000    1.000000    0.000000   \n",
       "75%      1.000000  166.000000    1.000000    1.600000    2.000000    1.000000   \n",
       "max      2.000000  202.000000    1.000000    6.200000    2.000000    4.000000   \n",
       "\n",
       "             thal      target  \n",
       "count  302.000000  302.000000  \n",
       "mean     2.314570    0.543046  \n",
       "std      0.613026    0.498970  \n",
       "min      0.000000    0.000000  \n",
       "25%      2.000000    0.000000  \n",
       "50%      2.000000    1.000000  \n",
       "75%      3.000000    1.000000  \n",
       "max      3.000000    1.000000  "
      ]
     },
     "execution_count": 23,
     "metadata": {},
     "output_type": "execute_result"
    }
   ],
   "source": [
    "dataset.describe()"
   ]
  },
  {
   "cell_type": "code",
   "execution_count": 24,
   "id": "d273a91a-7caf-4d2d-b085-7472e581d3f5",
   "metadata": {
    "tags": []
   },
   "outputs": [],
   "source": [
    "#For ca max should be 3 as it lies between 0-3\n",
    "#For thal min should be 1 as it lies between 1-3\n",
    "#So dropping those rows"
   ]
  },
  {
   "cell_type": "code",
   "execution_count": 25,
   "id": "de3f7581-b6aa-4ea0-8ba3-eb28e649d17d",
   "metadata": {
    "tags": []
   },
   "outputs": [
    {
     "data": {
      "text/html": [
       "<div>\n",
       "<style scoped>\n",
       "    .dataframe tbody tr th:only-of-type {\n",
       "        vertical-align: middle;\n",
       "    }\n",
       "\n",
       "    .dataframe tbody tr th {\n",
       "        vertical-align: top;\n",
       "    }\n",
       "\n",
       "    .dataframe thead th {\n",
       "        text-align: right;\n",
       "    }\n",
       "</style>\n",
       "<table border=\"1\" class=\"dataframe\">\n",
       "  <thead>\n",
       "    <tr style=\"text-align: right;\">\n",
       "      <th></th>\n",
       "      <th>age</th>\n",
       "      <th>sex</th>\n",
       "      <th>cp</th>\n",
       "      <th>trestbps</th>\n",
       "      <th>chol</th>\n",
       "      <th>fbs</th>\n",
       "      <th>restecg</th>\n",
       "      <th>thalach</th>\n",
       "      <th>exang</th>\n",
       "      <th>oldpeak</th>\n",
       "      <th>slope</th>\n",
       "      <th>ca</th>\n",
       "      <th>thal</th>\n",
       "      <th>target</th>\n",
       "    </tr>\n",
       "  </thead>\n",
       "  <tbody>\n",
       "    <tr>\n",
       "      <th>count</th>\n",
       "      <td>296.000000</td>\n",
       "      <td>296.000000</td>\n",
       "      <td>296.000000</td>\n",
       "      <td>296.00000</td>\n",
       "      <td>296.000000</td>\n",
       "      <td>296.00000</td>\n",
       "      <td>296.000000</td>\n",
       "      <td>296.000000</td>\n",
       "      <td>296.000000</td>\n",
       "      <td>296.000000</td>\n",
       "      <td>296.000000</td>\n",
       "      <td>296.000000</td>\n",
       "      <td>296.000000</td>\n",
       "      <td>296.000000</td>\n",
       "    </tr>\n",
       "    <tr>\n",
       "      <th>mean</th>\n",
       "      <td>54.523649</td>\n",
       "      <td>0.679054</td>\n",
       "      <td>0.959459</td>\n",
       "      <td>131.60473</td>\n",
       "      <td>247.155405</td>\n",
       "      <td>0.14527</td>\n",
       "      <td>0.523649</td>\n",
       "      <td>149.560811</td>\n",
       "      <td>0.327703</td>\n",
       "      <td>1.059122</td>\n",
       "      <td>1.395270</td>\n",
       "      <td>0.679054</td>\n",
       "      <td>2.327703</td>\n",
       "      <td>0.540541</td>\n",
       "    </tr>\n",
       "    <tr>\n",
       "      <th>std</th>\n",
       "      <td>9.059471</td>\n",
       "      <td>0.467631</td>\n",
       "      <td>1.034184</td>\n",
       "      <td>17.72662</td>\n",
       "      <td>51.977011</td>\n",
       "      <td>0.35297</td>\n",
       "      <td>0.526692</td>\n",
       "      <td>22.970792</td>\n",
       "      <td>0.470171</td>\n",
       "      <td>1.166474</td>\n",
       "      <td>0.618235</td>\n",
       "      <td>0.939726</td>\n",
       "      <td>0.585743</td>\n",
       "      <td>0.499198</td>\n",
       "    </tr>\n",
       "    <tr>\n",
       "      <th>min</th>\n",
       "      <td>29.000000</td>\n",
       "      <td>0.000000</td>\n",
       "      <td>0.000000</td>\n",
       "      <td>94.00000</td>\n",
       "      <td>126.000000</td>\n",
       "      <td>0.00000</td>\n",
       "      <td>0.000000</td>\n",
       "      <td>71.000000</td>\n",
       "      <td>0.000000</td>\n",
       "      <td>0.000000</td>\n",
       "      <td>0.000000</td>\n",
       "      <td>0.000000</td>\n",
       "      <td>1.000000</td>\n",
       "      <td>0.000000</td>\n",
       "    </tr>\n",
       "    <tr>\n",
       "      <th>25%</th>\n",
       "      <td>48.000000</td>\n",
       "      <td>0.000000</td>\n",
       "      <td>0.000000</td>\n",
       "      <td>120.00000</td>\n",
       "      <td>211.000000</td>\n",
       "      <td>0.00000</td>\n",
       "      <td>0.000000</td>\n",
       "      <td>133.000000</td>\n",
       "      <td>0.000000</td>\n",
       "      <td>0.000000</td>\n",
       "      <td>1.000000</td>\n",
       "      <td>0.000000</td>\n",
       "      <td>2.000000</td>\n",
       "      <td>0.000000</td>\n",
       "    </tr>\n",
       "    <tr>\n",
       "      <th>50%</th>\n",
       "      <td>56.000000</td>\n",
       "      <td>1.000000</td>\n",
       "      <td>1.000000</td>\n",
       "      <td>130.00000</td>\n",
       "      <td>242.500000</td>\n",
       "      <td>0.00000</td>\n",
       "      <td>1.000000</td>\n",
       "      <td>152.500000</td>\n",
       "      <td>0.000000</td>\n",
       "      <td>0.800000</td>\n",
       "      <td>1.000000</td>\n",
       "      <td>0.000000</td>\n",
       "      <td>2.000000</td>\n",
       "      <td>1.000000</td>\n",
       "    </tr>\n",
       "    <tr>\n",
       "      <th>75%</th>\n",
       "      <td>61.000000</td>\n",
       "      <td>1.000000</td>\n",
       "      <td>2.000000</td>\n",
       "      <td>140.00000</td>\n",
       "      <td>275.250000</td>\n",
       "      <td>0.00000</td>\n",
       "      <td>1.000000</td>\n",
       "      <td>166.000000</td>\n",
       "      <td>1.000000</td>\n",
       "      <td>1.650000</td>\n",
       "      <td>2.000000</td>\n",
       "      <td>1.000000</td>\n",
       "      <td>3.000000</td>\n",
       "      <td>1.000000</td>\n",
       "    </tr>\n",
       "    <tr>\n",
       "      <th>max</th>\n",
       "      <td>77.000000</td>\n",
       "      <td>1.000000</td>\n",
       "      <td>3.000000</td>\n",
       "      <td>200.00000</td>\n",
       "      <td>564.000000</td>\n",
       "      <td>1.00000</td>\n",
       "      <td>2.000000</td>\n",
       "      <td>202.000000</td>\n",
       "      <td>1.000000</td>\n",
       "      <td>6.200000</td>\n",
       "      <td>2.000000</td>\n",
       "      <td>3.000000</td>\n",
       "      <td>3.000000</td>\n",
       "      <td>1.000000</td>\n",
       "    </tr>\n",
       "  </tbody>\n",
       "</table>\n",
       "</div>"
      ],
      "text/plain": [
       "              age         sex          cp   trestbps        chol        fbs  \\\n",
       "count  296.000000  296.000000  296.000000  296.00000  296.000000  296.00000   \n",
       "mean    54.523649    0.679054    0.959459  131.60473  247.155405    0.14527   \n",
       "std      9.059471    0.467631    1.034184   17.72662   51.977011    0.35297   \n",
       "min     29.000000    0.000000    0.000000   94.00000  126.000000    0.00000   \n",
       "25%     48.000000    0.000000    0.000000  120.00000  211.000000    0.00000   \n",
       "50%     56.000000    1.000000    1.000000  130.00000  242.500000    0.00000   \n",
       "75%     61.000000    1.000000    2.000000  140.00000  275.250000    0.00000   \n",
       "max     77.000000    1.000000    3.000000  200.00000  564.000000    1.00000   \n",
       "\n",
       "          restecg     thalach       exang     oldpeak       slope          ca  \\\n",
       "count  296.000000  296.000000  296.000000  296.000000  296.000000  296.000000   \n",
       "mean     0.523649  149.560811    0.327703    1.059122    1.395270    0.679054   \n",
       "std      0.526692   22.970792    0.470171    1.166474    0.618235    0.939726   \n",
       "min      0.000000   71.000000    0.000000    0.000000    0.000000    0.000000   \n",
       "25%      0.000000  133.000000    0.000000    0.000000    1.000000    0.000000   \n",
       "50%      1.000000  152.500000    0.000000    0.800000    1.000000    0.000000   \n",
       "75%      1.000000  166.000000    1.000000    1.650000    2.000000    1.000000   \n",
       "max      2.000000  202.000000    1.000000    6.200000    2.000000    3.000000   \n",
       "\n",
       "             thal      target  \n",
       "count  296.000000  296.000000  \n",
       "mean     2.327703    0.540541  \n",
       "std      0.585743    0.499198  \n",
       "min      1.000000    0.000000  \n",
       "25%      2.000000    0.000000  \n",
       "50%      2.000000    1.000000  \n",
       "75%      3.000000    1.000000  \n",
       "max      3.000000    1.000000  "
      ]
     },
     "execution_count": 25,
     "metadata": {},
     "output_type": "execute_result"
    }
   ],
   "source": [
    "dataset = dataset[(dataset['ca'] >= 0) & (dataset['ca'] <= 3)]\n",
    "dataset = dataset[(dataset['thal'] >= 1) & (dataset['thal'] <= 3)]\n",
    "dataset.describe()"
   ]
  },
  {
   "cell_type": "code",
   "execution_count": 26,
   "id": "d63d8480-56e0-4c82-a906-28db42c70223",
   "metadata": {
    "tags": []
   },
   "outputs": [],
   "source": [
    "#Exploring the measures of central tendencies and spread of the data"
   ]
  },
  {
   "cell_type": "code",
   "execution_count": 27,
   "id": "8e1f5bec-9dfb-4c7d-ac3b-79066947684b",
   "metadata": {
    "tags": []
   },
   "outputs": [
    {
     "name": "stdout",
     "output_type": "stream",
     "text": [
      "Mean:\n",
      "{'age': '54.5236', 'sex': '0.6791', 'cp': '0.9595', 'trestbps': '131.6047', 'chol': '247.1554', 'fbs': '0.1453', 'restecg': '0.5236', 'thalach': '149.5608', 'exang': '0.3277', 'oldpeak': '1.0591', 'slope': '1.3953', 'ca': '0.6791', 'thal': '2.3277', 'target': '0.5405'}\n",
      "\n",
      "Median:\n",
      "{'age': 56.0, 'sex': 1.0, 'cp': 1.0, 'trestbps': 130.0, 'chol': 242.5, 'fbs': 0.0, 'restecg': 1.0, 'thalach': 152.5, 'exang': 0.0, 'oldpeak': 0.8, 'slope': 1.0, 'ca': 0.0, 'thal': 2.0, 'target': 1.0}\n",
      "\n",
      "Mode:\n",
      "{'age': 58.0, 'sex': 1.0, 'cp': 0.0, 'trestbps': 120.0, 'chol': 197.0, 'fbs': 0.0, 'restecg': 1.0, 'thalach': 162.0, 'exang': 0.0, 'oldpeak': 0.0, 'slope': 2.0, 'ca': 0.0, 'thal': 2.0, 'target': 1.0}\n",
      "\n",
      "Standard Deviation:\n",
      "{'age': '9.0595', 'sex': '0.4676', 'cp': '1.0342', 'trestbps': '17.7266', 'chol': '51.9770', 'fbs': '0.3530', 'restecg': '0.5267', 'thalach': '22.9708', 'exang': '0.4702', 'oldpeak': '1.1665', 'slope': '0.6182', 'ca': '0.9397', 'thal': '0.5857', 'target': '0.4992'}\n",
      "\n",
      "Range:\n",
      "{'age': 48.0, 'sex': 1.0, 'cp': 3.0, 'trestbps': 106.0, 'chol': 438.0, 'fbs': 1.0, 'restecg': 2.0, 'thalach': 131.0, 'exang': 1.0, 'oldpeak': 6.2, 'slope': 2.0, 'ca': 3.0, 'thal': 2.0, 'target': 1.0}\n",
      "\n",
      "Interquartile Range:\n",
      "{'age': 13.0, 'sex': 1.0, 'cp': 2.0, 'trestbps': 20.0, 'chol': 64.25, 'fbs': 0.0, 'restecg': 1.0, 'thalach': 33.0, 'exang': 1.0, 'oldpeak': 1.6500000000000001, 'slope': 1.0, 'ca': 1.0, 'thal': 1.0, 'target': 1.0}\n"
     ]
    }
   ],
   "source": [
    "# Measures of central tendency\n",
    "print(\"Mean:\")\n",
    "print(dict(dataset.mean().map('{:,.4f}'.format)))\n",
    "print(\"\\nMedian:\")\n",
    "print(dict(dataset.median()))\n",
    "print(\"\\nMode:\")\n",
    "print(dict(dataset.mode().iloc[0]))\n",
    "\n",
    "# Measures of spread\n",
    "print(\"\\nStandard Deviation:\")\n",
    "print(dict(dataset.std().map('{:,.4f}'.format)))\n",
    "print(\"\\nRange:\")\n",
    "print(dict(dataset.max() - dataset.min()))\n",
    "print(\"\\nInterquartile Range:\")\n",
    "print(dict(dataset.quantile(0.75) - dataset.quantile(0.25)))"
   ]
  },
  {
   "cell_type": "code",
   "execution_count": 28,
   "id": "4012ace2-cb0a-4238-a5e4-23ea5a5838e8",
   "metadata": {
    "tags": []
   },
   "outputs": [],
   "source": [
    "#2.b. Identifying Categorical data variables and plotting them for visualization"
   ]
  },
  {
   "cell_type": "code",
   "execution_count": 29,
   "id": "e2f877cb-0ef3-42db-946b-43532ca3d207",
   "metadata": {
    "tags": []
   },
   "outputs": [],
   "source": [
    "graph_dir = os.path.join(cwd,'Graph')"
   ]
  },
  {
   "cell_type": "code",
   "execution_count": 35,
   "id": "30df4475-bd83-4c43-a4ba-0c233e9b69de",
   "metadata": {
    "tags": []
   },
   "outputs": [
    {
     "data": {
      "image/png": "[encoded data removed]",
      "text/plain": [
       "<Figure size 800x600 with 1 Axes>"
      ]
     },
     "metadata": {},
     "output_type": "display_data"
    },
    {
     "data": {
      "image/png": "[encoded data removed]",
      "text/plain": [
       "<Figure size 800x600 with 1 Axes>"
      ]
     },
     "metadata": {},
     "output_type": "display_data"
    },
    {
     "data": {
      "image/png": "[encoded data removed]",
      "text/plain": [
       "<Figure size 800x600 with 1 Axes>"
      ]
     },
     "metadata": {},
     "output_type": "display_data"
    },
    {
     "data": {
      "image/png": "[encoded data removed]",
      "text/plain": [
       "<Figure size 800x600 with 1 Axes>"
      ]
     },
     "metadata": {},
     "output_type": "display_data"
    },
    {
     "data": {
      "image/png": "[encoded data removed]",
      "text/plain": [
       "<Figure size 800x600 with 1 Axes>"
      ]
     },
     "metadata": {},
     "output_type": "display_data"
    },
    {
     "data": {
      "image/png": "[encoded data removed]",
      "text/plain": [
       "<Figure size 800x600 with 1 Axes>"
      ]
     },
     "metadata": {},
     "output_type": "display_data"
    },
    {
     "data": {
      "image/png": "[encoded data removed]",
      "text/plain": [
       "<Figure size 800x600 with 1 Axes>"
      ]
     },
     "metadata": {},
     "output_type": "display_data"
    },
    {
     "data": {
      "image/png": "[encoded data removed]",
      "text/plain": [
       "<Figure size 800x600 with 1 Axes>"
      ]
     },
     "metadata": {},
     "output_type": "display_data"
    }
   ],
   "source": [
    "categorical_vars = ['sex', 'cp', 'fbs', 'restecg', 'exang', 'slope', 'ca', 'thal']\n",
    "\n",
    "for var in categorical_vars:\n",
    "    plt.figure(figsize=(8,6))\n",
    "    sns.countplot(x=var, data=dataset, palette='pastel', hue='target')\n",
    "    title = 'Count Plot for {}'.format(var)\n",
    "    counts = dataset[var].value_counts().values\n",
    "    value_counts = dataset[var].value_counts().sort_index()\n",
    "    #for i, count in enumerate(value_counts.values):\n",
    "    #    plt.annotate(str(count), xy=(i, count), ha='center', va='bottom')\n",
    "    plt.title(title)\n",
    "    plt.savefig(os.path.join(graph_dir, title + '.png'), bbox_inches='tight')\n",
    "    plt.show()\n",
    "    plt.close()"
   ]
  },
  {
   "cell_type": "code",
   "execution_count": null,
   "id": "fdd9a001-7f95-4183-83a5-e23b32af6e91",
   "metadata": {},
   "outputs": [],
   "source": [
    "#Correlation between the dataset features"
   ]
  },
  {
   "cell_type": "code",
   "execution_count": null,
   "id": "9e014934-7d16-49a3-83be-388da06f46ea",
   "metadata": {
    "tags": []
   },
   "outputs": [],
   "source": [
    "plt.figure(figsize=(16,12))\n",
    "sns.heatmap(dataset.corr(),annot=True,linewidth =2)\n",
    "title = 'Correlation between dataset features'\n",
    "plt.title(title)\n",
    "plt.savefig(os.path.join(graph_dir, title + '.png'), bbox_inches='tight')\n",
    "plt.show()\n",
    "plt.close()"
   ]
  },
  {
   "cell_type": "code",
   "execution_count": null,
   "id": "36bcef3f-a416-415d-94d0-27ab14711a78",
   "metadata": {
    "tags": []
   },
   "outputs": [],
   "source": [
    "title = 'Correlation with the target feature'\n",
    "dataset.drop('target', axis=1).corrwith(dataset.target).plot(kind='bar', grid=True, figsize=(12, 8), title=title)\n",
    "plt.xlabel('Feature')\n",
    "plt.savefig(os.path.join(graph_dir, title + '.png'), bbox_inches='tight')\n",
    "plt.show()\n",
    "plt.close()"
   ]
  },
  {
   "cell_type": "code",
   "execution_count": null,
   "id": "095df8f5-f17b-4501-a786-56d0208d871a",
   "metadata": {},
   "outputs": [],
   "source": []
  }
 ],
 "metadata": {
  "kernelspec": {
   "display_name": "Python 3 (ipykernel)",
   "language": "python",
   "name": "python3"
  },
  "language_info": {
   "codemirror_mode": {
    "name": "ipython",
    "version": 3
   },
   "file_extension": ".py",
   "mimetype": "text/x-python",
   "name": "python",
   "nbconvert_exporter": "python",
   "pygments_lexer": "ipython3",
   "version": "3.11.3"
  }
 },
 "nbformat": 4,
 "nbformat_minor": 5
}
